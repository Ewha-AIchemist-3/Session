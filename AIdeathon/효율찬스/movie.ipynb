{
 "cells": [
  {
   "cell_type": "code",
   "execution_count": 217,
   "id": "dce781e2-9acc-45c5-ab86-aceeb877b5ce",
   "metadata": {},
   "outputs": [
    {
     "name": "stdout",
     "output_type": "stream",
     "text": [
      "<class 'pandas.core.frame.DataFrame'>\n",
      "RangeIndex: 4803 entries, 0 to 4802\n",
      "Data columns (total 24 columns):\n",
      " #   Column                Non-Null Count  Dtype  \n",
      "---  ------                --------------  -----  \n",
      " 0   Unnamed: 0            4803 non-null   int64  \n",
      " 1   budget                4803 non-null   int64  \n",
      " 2   homepage              1712 non-null   object \n",
      " 3   id                    4803 non-null   int64  \n",
      " 4   keywords              4803 non-null   object \n",
      " 5   original_language     4803 non-null   object \n",
      " 6   original_title        4803 non-null   object \n",
      " 7   overview              4800 non-null   object \n",
      " 8   popularity            4803 non-null   float64\n",
      " 9   production_companies  4452 non-null   object \n",
      " 10  production_countries  4629 non-null   object \n",
      " 11  release_date          4802 non-null   object \n",
      " 12  revenue               4803 non-null   int64  \n",
      " 13  runtime               4801 non-null   float64\n",
      " 14  spoken_languages      4705 non-null   object \n",
      " 15  status                4803 non-null   object \n",
      " 16  tagline               3959 non-null   object \n",
      " 17  title                 4803 non-null   object \n",
      " 18  vote_average          4803 non-null   float64\n",
      " 19  vote_count            4803 non-null   int64  \n",
      " 20  tittle                4803 non-null   object \n",
      " 21  cast                  4803 non-null   object \n",
      " 22  crew                  4803 non-null   object \n",
      " 23  first_genre           4775 non-null   object \n",
      "dtypes: float64(3), int64(5), object(16)\n",
      "memory usage: 900.7+ KB\n"
     ]
    }
   ],
   "source": [
    "import pandas as pd\n",
    "import datetime as dt\n",
    "import math\n",
    "import numpy as np\n",
    "import matplotlib.pyplot as plt\n",
    "%matplotlib inline\n",
    "#ML Libraries that we will be using\n",
    "from sklearn.preprocessing import StandardScaler\n",
    "from sklearn.decomposition import PCA\n",
    "from sklearn.model_selection import train_test_split\n",
    "from sklearn.ensemble import RandomForestClassifier,AdaBoostClassifier,BaggingClassifier,ExtraTreesClassifier,GradientBoostingClassifier\n",
    "from sklearn.model_selection import GridSearchCV, cross_val_score, StratifiedKFold, learning_curve ,KFold\n",
    "from sklearn.metrics import roc_curve,accuracy_score,f1_score,auc,confusion_matrix,roc_auc_score\n",
    "from xgboost.sklearn import XGBClassifier\n",
    "from sklearn.metrics import classification_report,confusion_matrix,accuracy_score\n",
    "from sklearn.tree import DecisionTreeClassifier\n",
    "from sklearn.linear_model import LinearRegression\n",
    "\n",
    "df = pd.read_csv('df3.csv')\n",
    "df.head(3)\n",
    "df.info()"
   ]
  },
  {
   "cell_type": "markdown",
   "id": "ba3859b8-f420-4590-8b0a-937e94dbb8be",
   "metadata": {},
   "source": [
    "##데이터 전처리"
   ]
  },
  {
   "cell_type": "code",
   "execution_count": 218,
   "id": "86623603-3876-4b3f-879b-d2a6754488a9",
   "metadata": {},
   "outputs": [
    {
     "data": {
      "text/html": [
       "<div>\n",
       "<style scoped>\n",
       "    .dataframe tbody tr th:only-of-type {\n",
       "        vertical-align: middle;\n",
       "    }\n",
       "\n",
       "    .dataframe tbody tr th {\n",
       "        vertical-align: top;\n",
       "    }\n",
       "\n",
       "    .dataframe thead th {\n",
       "        text-align: right;\n",
       "    }\n",
       "</style>\n",
       "<table border=\"1\" class=\"dataframe\">\n",
       "  <thead>\n",
       "    <tr style=\"text-align: right;\">\n",
       "      <th></th>\n",
       "      <th>budget</th>\n",
       "      <th>popularity</th>\n",
       "      <th>revenue</th>\n",
       "      <th>vote_count</th>\n",
       "    </tr>\n",
       "  </thead>\n",
       "  <tbody>\n",
       "    <tr>\n",
       "      <th>budget</th>\n",
       "      <td>1.000000</td>\n",
       "      <td>0.505414</td>\n",
       "      <td>0.730823</td>\n",
       "      <td>0.593180</td>\n",
       "    </tr>\n",
       "    <tr>\n",
       "      <th>popularity</th>\n",
       "      <td>0.505414</td>\n",
       "      <td>1.000000</td>\n",
       "      <td>0.644724</td>\n",
       "      <td>0.778130</td>\n",
       "    </tr>\n",
       "    <tr>\n",
       "      <th>revenue</th>\n",
       "      <td>0.730823</td>\n",
       "      <td>0.644724</td>\n",
       "      <td>1.000000</td>\n",
       "      <td>0.781487</td>\n",
       "    </tr>\n",
       "    <tr>\n",
       "      <th>vote_count</th>\n",
       "      <td>0.593180</td>\n",
       "      <td>0.778130</td>\n",
       "      <td>0.781487</td>\n",
       "      <td>1.000000</td>\n",
       "    </tr>\n",
       "  </tbody>\n",
       "</table>\n",
       "</div>"
      ],
      "text/plain": [
       "              budget  popularity   revenue  vote_count\n",
       "budget      1.000000    0.505414  0.730823    0.593180\n",
       "popularity  0.505414    1.000000  0.644724    0.778130\n",
       "revenue     0.730823    0.644724  1.000000    0.781487\n",
       "vote_count  0.593180    0.778130  0.781487    1.000000"
      ]
     },
     "execution_count": 218,
     "metadata": {},
     "output_type": "execute_result"
    }
   ],
   "source": [
    "#변수의 중요도 확인하기 \n",
    "df = df[['budget', 'popularity', 'revenue','vote_count']]\n",
    "df.corr()"
   ]
  },
  {
   "cell_type": "code",
   "execution_count": 219,
   "id": "699f7cf1-b969-45e5-abf4-858f3e01e8dc",
   "metadata": {},
   "outputs": [
    {
     "data": {
      "text/html": [
       "<div>\n",
       "<style scoped>\n",
       "    .dataframe tbody tr th:only-of-type {\n",
       "        vertical-align: middle;\n",
       "    }\n",
       "\n",
       "    .dataframe tbody tr th {\n",
       "        vertical-align: top;\n",
       "    }\n",
       "\n",
       "    .dataframe thead th {\n",
       "        text-align: right;\n",
       "    }\n",
       "</style>\n",
       "<table border=\"1\" class=\"dataframe\">\n",
       "  <thead>\n",
       "    <tr style=\"text-align: right;\">\n",
       "      <th></th>\n",
       "      <th>budget</th>\n",
       "      <th>popularity</th>\n",
       "      <th>revenue</th>\n",
       "      <th>vote_count</th>\n",
       "    </tr>\n",
       "  </thead>\n",
       "  <tbody>\n",
       "    <tr>\n",
       "      <th>count</th>\n",
       "      <td>4.803000e+03</td>\n",
       "      <td>4803.000000</td>\n",
       "      <td>4.803000e+03</td>\n",
       "      <td>4803.000000</td>\n",
       "    </tr>\n",
       "    <tr>\n",
       "      <th>mean</th>\n",
       "      <td>2.904504e+07</td>\n",
       "      <td>21.492301</td>\n",
       "      <td>8.226064e+07</td>\n",
       "      <td>690.217989</td>\n",
       "    </tr>\n",
       "    <tr>\n",
       "      <th>std</th>\n",
       "      <td>4.072239e+07</td>\n",
       "      <td>31.816650</td>\n",
       "      <td>1.628571e+08</td>\n",
       "      <td>1234.585891</td>\n",
       "    </tr>\n",
       "    <tr>\n",
       "      <th>min</th>\n",
       "      <td>0.000000e+00</td>\n",
       "      <td>0.000000</td>\n",
       "      <td>0.000000e+00</td>\n",
       "      <td>0.000000</td>\n",
       "    </tr>\n",
       "    <tr>\n",
       "      <th>25%</th>\n",
       "      <td>7.900000e+05</td>\n",
       "      <td>4.668070</td>\n",
       "      <td>0.000000e+00</td>\n",
       "      <td>54.000000</td>\n",
       "    </tr>\n",
       "    <tr>\n",
       "      <th>50%</th>\n",
       "      <td>1.500000e+07</td>\n",
       "      <td>12.921594</td>\n",
       "      <td>1.917000e+07</td>\n",
       "      <td>235.000000</td>\n",
       "    </tr>\n",
       "    <tr>\n",
       "      <th>75%</th>\n",
       "      <td>4.000000e+07</td>\n",
       "      <td>28.313505</td>\n",
       "      <td>9.291719e+07</td>\n",
       "      <td>737.000000</td>\n",
       "    </tr>\n",
       "    <tr>\n",
       "      <th>max</th>\n",
       "      <td>3.800000e+08</td>\n",
       "      <td>875.581305</td>\n",
       "      <td>2.787965e+09</td>\n",
       "      <td>13752.000000</td>\n",
       "    </tr>\n",
       "  </tbody>\n",
       "</table>\n",
       "</div>"
      ],
      "text/plain": [
       "             budget   popularity       revenue    vote_count\n",
       "count  4.803000e+03  4803.000000  4.803000e+03   4803.000000\n",
       "mean   2.904504e+07    21.492301  8.226064e+07    690.217989\n",
       "std    4.072239e+07    31.816650  1.628571e+08   1234.585891\n",
       "min    0.000000e+00     0.000000  0.000000e+00      0.000000\n",
       "25%    7.900000e+05     4.668070  0.000000e+00     54.000000\n",
       "50%    1.500000e+07    12.921594  1.917000e+07    235.000000\n",
       "75%    4.000000e+07    28.313505  9.291719e+07    737.000000\n",
       "max    3.800000e+08   875.581305  2.787965e+09  13752.000000"
      ]
     },
     "execution_count": 219,
     "metadata": {},
     "output_type": "execute_result"
    }
   ],
   "source": [
    "df.describe()"
   ]
  },
  {
   "cell_type": "code",
   "execution_count": 220,
   "id": "16d2dde6-1fab-4604-8095-03114368cf79",
   "metadata": {},
   "outputs": [],
   "source": [
    "#수익이 0인 칼럼들 살펴보기\n",
    "revenue_0 = df[df['revenue']==0]\n",
    "revenue_0.describe()\n",
    "#budget이 0인 경우도 많음. 수익 0인 칼럼들을 제거하는게 낫다고 판단\n",
    "df = df[df['revenue']>0]\n",
    "df = df[df['budget']>0]\n",
    "df = df[df['popularity']>0]\n",
    "df = df[df['vote_count']>0]"
   ]
  },
  {
   "cell_type": "code",
   "execution_count": 221,
   "id": "d1b8ada0-052b-4756-b77d-eed58fecc375",
   "metadata": {},
   "outputs": [
    {
     "name": "stdout",
     "output_type": "stream",
     "text": [
      "<class 'pandas.core.frame.DataFrame'>\n",
      "Index: 3227 entries, 0 to 4798\n",
      "Data columns (total 4 columns):\n",
      " #   Column      Non-Null Count  Dtype  \n",
      "---  ------      --------------  -----  \n",
      " 0   budget      3227 non-null   int64  \n",
      " 1   popularity  3227 non-null   float64\n",
      " 2   revenue     3227 non-null   int64  \n",
      " 3   vote_count  3227 non-null   int64  \n",
      "dtypes: float64(1), int64(3)\n",
      "memory usage: 126.1 KB\n"
     ]
    }
   ],
   "source": [
    "#결측치 제거\n",
    "df = df.dropna()\n",
    "df.info()"
   ]
  },
  {
   "cell_type": "code",
   "execution_count": 225,
   "id": "df1cb2de-84ca-4680-8fcf-b975adee4ecd",
   "metadata": {},
   "outputs": [
    {
     "name": "stderr",
     "output_type": "stream",
     "text": [
      "C:\\Users\\82108\\AppData\\Local\\Temp\\ipykernel_13708\\1284586159.py:9: UserWarning: \n",
      "\n",
      "`distplot` is a deprecated function and will be removed in seaborn v0.14.0.\n",
      "\n",
      "Please adapt your code to use either `displot` (a figure-level function with\n",
      "similar flexibility) or `histplot` (an axes-level function for histograms).\n",
      "\n",
      "For a guide to updating your code to use the new functions, please see\n",
      "https://gist.github.com/mwaskom/de44147ed2974457ad6372750bbe5751\n",
      "\n",
      "  sns.distplot(df[\"revenue_log\"],label='revenue')\n"
     ]
    },
    {
     "data": {
      "image/png": "[encoded data removed]",
      "text/plain": [
       "<Figure size 640x480 with 1 Axes>"
      ]
     },
     "metadata": {},
     "output_type": "display_data"
    }
   ],
   "source": [
    "#데이터 정규화\n",
    "#budget과 revenue가 너무 큰 값이라 로그 변환을 해 줌\n",
    "df['revenue_log'] = np.log1p(df[\"revenue\"])\n",
    "df['budget_log'] = np.log1p(df[\"budget\"])\n",
    "df['popularity_log'] = np.log1p(df[\"popularity\"])\n",
    "df['vote_count_log'] = np.log1p(df[\"vote_count\"])\n",
    "\n",
    "#revenue_log값의 distplot그래프\n",
    "sns.distplot(df[\"revenue_log\"],label='revenue')\n",
    "plt.legend()\n",
    "plt.show()"
   ]
  },
  {
   "cell_type": "code",
   "execution_count": 226,
   "id": "8b56f02a-9746-4358-9440-0e6a198bc013",
   "metadata": {},
   "outputs": [],
   "source": [
    "from sklearn.model_selection import train_test_split\n",
    "\n",
    "X = df[['budget', 'popularity', 'vote_count']]\n",
    "y = df['revenue_log']\n",
    "\n",
    "X_train, X_test, y_train, y_test = train_test_split(X, y, test_size=0.3, random_state=0)"
   ]
  },
  {
   "cell_type": "code",
   "execution_count": 227,
   "id": "59dbfd01-2e64-4bec-bbc6-8813a4ffef64",
   "metadata": {},
   "outputs": [
    {
     "name": "stdout",
     "output_type": "stream",
     "text": [
      "### 선형 회귀 ###\n",
      "RMSE 값 :  1.5796773609916277\n",
      "MAE 값 :  1.0790973144347868\n",
      "### 릿지 회귀 ###\n",
      "RMSE 값 :  1.5796773976389247\n",
      "MAE 값 :  1.0790973490178355\n",
      "### 라쏘 회귀 ###\n",
      "RMSE 값 :  1.5796937082758313\n",
      "MAE 값 :  1.0791124522232658\n"
     ]
    }
   ],
   "source": [
    "#선형 회귀\n",
    "model = LinearRegression()\n",
    "model.fit(X_train, y_train)\n",
    "pred = model.predict(X_test)\n",
    "print('### 선형 회귀 ###')\n",
    "evaluate_regr(y_test, pred)\n",
    "\n",
    "#릿지, 라쏘 회귀\n",
    "ridge_reg = Ridge(alpha=10)\n",
    "ridge_reg.fit(X_train, y_train)\n",
    "r_pred = ridge_reg.predict(X_test)\n",
    "print('### 릿지 회귀 ###')\n",
    "evaluate_regr(y_test, r_pred)\n",
    "lasso_reg = Lasso(alpha=0.01)\n",
    "lasso_reg.fit(X_train, y_train)\n",
    "l_pred = lasso_reg.predict(X_test)\n",
    "print('### 라쏘 회귀 ###')\n",
    "evaluate_regr(y_test, l_pred)\n"
   ]
  },
  {
   "cell_type": "code",
   "execution_count": 228,
   "id": "2a53f48a-77b2-4e95-bee8-2e3e7b53a7f6",
   "metadata": {},
   "outputs": [
    {
     "name": "stdout",
     "output_type": "stream",
     "text": [
      "### 랜덤 포레스트 회귀 ###\n",
      "RMSE 값 :  1.4009194824250875\n",
      "MAE 값 :  0.9131144296475225\n",
      "### GBM 회귀 ###\n",
      "RMSE 값 :  1.4795854160697248\n",
      "MAE 값 :  0.9256572847663378\n",
      "### xgboost 회귀 ###\n",
      "RMSE 값 :  1.546376388117337\n",
      "MAE 값 :  1.0228946903796194\n",
      "[LightGBM] [Info] Auto-choosing col-wise multi-threading, the overhead of testing was 0.000096 seconds.\n",
      "You can set `force_col_wise=true` to remove the overhead.\n",
      "[LightGBM] [Info] Total Bins 721\n",
      "[LightGBM] [Info] Number of data points in the train set: 2258, number of used features: 3\n",
      "[LightGBM] [Info] Start training from score 17.494700\n",
      "### lightGBM 회귀 ###\n",
      "RMSE 값 :  1.541395669759506\n",
      "MAE 값 :  0.9768140925150325\n"
     ]
    }
   ],
   "source": [
    "from sklearn.ensemble import RandomForestRegressor, GradientBoostingRegressor\n",
    "from xgboost import XGBRegressor\n",
    "from lightgbm import LGBMRegressor\n",
    "\n",
    "rf_reg = RandomForestRegressor(n_estimators=500)\n",
    "gbm_reg = GradientBoostingRegressor(n_estimators=500)\n",
    "xgb_reg = XGBRegressor(n_estimators=500)\n",
    "lgbm_reg = LGBMRegressor(n_estimators=500)\n",
    "\n",
    "rf_reg.fit(X_train, y_train)\n",
    "rf_pred = rf_reg.predict(X_test)\n",
    "print('### 랜덤 포레스트 회귀 ###')\n",
    "evaluate_regr(y_test, rf_pred)\n",
    "\n",
    "gbm_reg.fit(X_train, y_train)\n",
    "gbm_pred = gbm_reg.predict(X_test)\n",
    "print('### GBM 회귀 ###')\n",
    "evaluate_regr(y_test, gbm_pred)\n",
    "\n",
    "xgb_reg.fit(X_train, y_train)\n",
    "xgb_pred = xgb_reg.predict(X_test)\n",
    "print('### xgboost 회귀 ###')\n",
    "evaluate_regr(y_test, xgb_pred)\n",
    "\n",
    "lgbm_reg.fit(X_train, y_train)\n",
    "lgbm_pred = lgbm_reg.predict(X_test)\n",
    "print('### lightGBM 회귀 ###')\n",
    "evaluate_regr(y_test, lgbm_pred)"
   ]
  },
  {
   "cell_type": "code",
   "execution_count": null,
   "id": "90df168c-842c-420a-b722-df80b409312d",
   "metadata": {},
   "outputs": [],
   "source": []
  },
  {
   "cell_type": "code",
   "execution_count": null,
   "id": "a997e82e-84db-4075-845e-0c2a50a220d9",
   "metadata": {},
   "outputs": [],
   "source": []
  },
  {
   "cell_type": "code",
   "execution_count": null,
   "id": "0d51e5e1-1dbb-403e-a8bf-d94ba074e830",
   "metadata": {},
   "outputs": [],
   "source": []
  },
  {
   "cell_type": "code",
   "execution_count": null,
   "id": "d74a5915-37f4-4b2d-a61e-ab1b199177ab",
   "metadata": {},
   "outputs": [],
   "source": []
  },
  {
   "cell_type": "code",
   "execution_count": null,
   "id": "4b1eb0ee-6157-477b-8fa6-b40179cff335",
   "metadata": {},
   "outputs": [],
   "source": []
  },
  {
   "cell_type": "code",
   "execution_count": null,
   "id": "bc610f59-38fd-40f4-a67d-51ff1527a6ba",
   "metadata": {},
   "outputs": [],
   "source": []
  }
 ],
 "metadata": {
  "kernelspec": {
   "display_name": "Python 3 (ipykernel)",
   "language": "python",
   "name": "python3"
  },
  "language_info": {
   "codemirror_mode": {
    "name": "ipython",
    "version": 3
   },
   "file_extension": ".py",
   "mimetype": "text/x-python",
   "name": "python",
   "nbconvert_exporter": "python",
   "pygments_lexer": "ipython3",
   "version": "3.12.3"
  }
 },
 "nbformat": 4,
 "nbformat_minor": 5
}
