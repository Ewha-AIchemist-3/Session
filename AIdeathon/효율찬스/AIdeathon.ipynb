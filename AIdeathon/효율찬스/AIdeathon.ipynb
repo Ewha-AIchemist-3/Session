{
 "cells": [
  {
   "cell_type": "markdown",
   "id": "c42c5b63-7453-4959-ae5c-adc832a142f4",
   "metadata": {},
   "source": [
    "## [주제] 영화의 다양한 특성들을 기반으로 **수익**을 예측하는 모델"
   ]
  },
  {
   "cell_type": "markdown",
   "id": "5114dad9-543f-4461-9ce2-06081af7203b",
   "metadata": {},
   "source": [
    "### 파일 및 리소스 불러오기"
   ]
  },
  {
   "cell_type": "code",
   "execution_count": 1,
   "id": "ac79560f-cd17-458e-8cb4-420b78abc890",
   "metadata": {},
   "outputs": [],
   "source": [
    "import pandas as pd\n",
    "import numpy as np\n",
    "import seaborn as sns\n",
    "import matplotlib.pyplot as plt\n",
    "%matplotlib inline\n",
    "\n",
    "df = pd.read_csv('df3.csv')"
   ]
  },
  {
   "cell_type": "markdown",
   "id": "75ef0b56-5cc9-483f-aea5-ce3483b4ff41",
   "metadata": {},
   "source": [
    "### 데이터 전처리 및 EDA"
   ]
  },
  {
   "cell_type": "code",
   "execution_count": 2,
   "id": "0427736d-8b1e-44ec-b33d-4d8f154589a1",
   "metadata": {},
   "outputs": [
    {
     "data": {
      "text/html": [
       "<div>\n",
       "<style scoped>\n",
       "    .dataframe tbody tr th:only-of-type {\n",
       "        vertical-align: middle;\n",
       "    }\n",
       "\n",
       "    .dataframe tbody tr th {\n",
       "        vertical-align: top;\n",
       "    }\n",
       "\n",
       "    .dataframe thead th {\n",
       "        text-align: right;\n",
       "    }\n",
       "</style>\n",
       "<table border=\"1\" class=\"dataframe\">\n",
       "  <thead>\n",
       "    <tr style=\"text-align: right;\">\n",
       "      <th></th>\n",
       "      <th>Unnamed: 0</th>\n",
       "      <th>budget</th>\n",
       "      <th>homepage</th>\n",
       "      <th>id</th>\n",
       "      <th>keywords</th>\n",
       "      <th>original_language</th>\n",
       "      <th>original_title</th>\n",
       "      <th>overview</th>\n",
       "      <th>popularity</th>\n",
       "      <th>production_companies</th>\n",
       "      <th>...</th>\n",
       "      <th>spoken_languages</th>\n",
       "      <th>status</th>\n",
       "      <th>tagline</th>\n",
       "      <th>title</th>\n",
       "      <th>vote_average</th>\n",
       "      <th>vote_count</th>\n",
       "      <th>tittle</th>\n",
       "      <th>cast</th>\n",
       "      <th>crew</th>\n",
       "      <th>first_genre</th>\n",
       "    </tr>\n",
       "  </thead>\n",
       "  <tbody>\n",
       "    <tr>\n",
       "      <th>0</th>\n",
       "      <td>0</td>\n",
       "      <td>237000000</td>\n",
       "      <td>http://www.avatarmovie.com/</td>\n",
       "      <td>19995</td>\n",
       "      <td>['culture clash', 'future', 'space war', 'spac...</td>\n",
       "      <td>en</td>\n",
       "      <td>Avatar</td>\n",
       "      <td>In the 22nd century, a paraplegic Marine is di...</td>\n",
       "      <td>150.437577</td>\n",
       "      <td>Ingenious Film Partners</td>\n",
       "      <td>...</td>\n",
       "      <td>English</td>\n",
       "      <td>Released</td>\n",
       "      <td>Enter the World of Pandora.</td>\n",
       "      <td>Avatar</td>\n",
       "      <td>7.2</td>\n",
       "      <td>11800</td>\n",
       "      <td>Avatar</td>\n",
       "      <td>[{'character': 'Jake Sully', 'gender': 'M', 'n...</td>\n",
       "      <td>[{\"credit_id\": \"52fe48009251416c750aca23\", \"de...</td>\n",
       "      <td>Action</td>\n",
       "    </tr>\n",
       "    <tr>\n",
       "      <th>1</th>\n",
       "      <td>1</td>\n",
       "      <td>300000000</td>\n",
       "      <td>http://disney.go.com/disneypictures/pirates/</td>\n",
       "      <td>285</td>\n",
       "      <td>['ocean', 'drug abuse', 'exotic island', 'east...</td>\n",
       "      <td>en</td>\n",
       "      <td>Pirates of the Caribbean: At World's End</td>\n",
       "      <td>Captain Barbossa, long believed to be dead, ha...</td>\n",
       "      <td>139.082615</td>\n",
       "      <td>Walt Disney Pictures</td>\n",
       "      <td>...</td>\n",
       "      <td>English</td>\n",
       "      <td>Released</td>\n",
       "      <td>At the end of the world, the adventure begins.</td>\n",
       "      <td>Pirates of the Caribbean: At World's End</td>\n",
       "      <td>6.9</td>\n",
       "      <td>4500</td>\n",
       "      <td>Pirates of the Caribbean: At World's End</td>\n",
       "      <td>[{'character': 'Captain Jack Sparrow', 'gender...</td>\n",
       "      <td>[{\"credit_id\": \"52fe4232c3a36847f800b579\", \"de...</td>\n",
       "      <td>Adventure</td>\n",
       "    </tr>\n",
       "    <tr>\n",
       "      <th>2</th>\n",
       "      <td>2</td>\n",
       "      <td>245000000</td>\n",
       "      <td>http://www.sonypictures.com/movies/spectre/</td>\n",
       "      <td>206647</td>\n",
       "      <td>['spy', 'based on novel', 'secret agent', 'seq...</td>\n",
       "      <td>en</td>\n",
       "      <td>Spectre</td>\n",
       "      <td>A cryptic message from Bond’s past sends him o...</td>\n",
       "      <td>107.376788</td>\n",
       "      <td>Columbia Pictures</td>\n",
       "      <td>...</td>\n",
       "      <td>Français</td>\n",
       "      <td>Released</td>\n",
       "      <td>A Plan No One Escapes</td>\n",
       "      <td>Spectre</td>\n",
       "      <td>6.3</td>\n",
       "      <td>4466</td>\n",
       "      <td>Spectre</td>\n",
       "      <td>[{'character': 'James Bond', 'gender': 'M', 'n...</td>\n",
       "      <td>[{\"credit_id\": \"54805967c3a36829b5002c41\", \"de...</td>\n",
       "      <td>Action</td>\n",
       "    </tr>\n",
       "    <tr>\n",
       "      <th>3</th>\n",
       "      <td>3</td>\n",
       "      <td>250000000</td>\n",
       "      <td>http://www.thedarkknightrises.com/</td>\n",
       "      <td>49026</td>\n",
       "      <td>['dc comics', 'crime fighter', 'terrorist', 's...</td>\n",
       "      <td>en</td>\n",
       "      <td>The Dark Knight Rises</td>\n",
       "      <td>Following the death of District Attorney Harve...</td>\n",
       "      <td>112.312950</td>\n",
       "      <td>Legendary Pictures</td>\n",
       "      <td>...</td>\n",
       "      <td>English</td>\n",
       "      <td>Released</td>\n",
       "      <td>The Legend Ends</td>\n",
       "      <td>The Dark Knight Rises</td>\n",
       "      <td>7.6</td>\n",
       "      <td>9106</td>\n",
       "      <td>The Dark Knight Rises</td>\n",
       "      <td>[{'character': 'Bruce Wayne / Batman', 'gender...</td>\n",
       "      <td>[{\"credit_id\": \"52fe4781c3a36847f81398c3\", \"de...</td>\n",
       "      <td>Action</td>\n",
       "    </tr>\n",
       "    <tr>\n",
       "      <th>4</th>\n",
       "      <td>4</td>\n",
       "      <td>260000000</td>\n",
       "      <td>http://movies.disney.com/john-carter</td>\n",
       "      <td>49529</td>\n",
       "      <td>['based on novel', 'mars', 'medallion', 'space...</td>\n",
       "      <td>en</td>\n",
       "      <td>John Carter</td>\n",
       "      <td>John Carter is a war-weary, former military ca...</td>\n",
       "      <td>43.926995</td>\n",
       "      <td>Walt Disney Pictures</td>\n",
       "      <td>...</td>\n",
       "      <td>English</td>\n",
       "      <td>Released</td>\n",
       "      <td>Lost in our world, found in another.</td>\n",
       "      <td>John Carter</td>\n",
       "      <td>6.1</td>\n",
       "      <td>2124</td>\n",
       "      <td>John Carter</td>\n",
       "      <td>[{'character': 'John Carter', 'gender': 'M', '...</td>\n",
       "      <td>[{\"credit_id\": \"52fe479ac3a36847f813eaa3\", \"de...</td>\n",
       "      <td>Action</td>\n",
       "    </tr>\n",
       "  </tbody>\n",
       "</table>\n",
       "<p>5 rows × 24 columns</p>\n",
       "</div>"
      ],
      "text/plain": [
       "   Unnamed: 0     budget                                      homepage  \\\n",
       "0           0  237000000                   http://www.avatarmovie.com/   \n",
       "1           1  300000000  http://disney.go.com/disneypictures/pirates/   \n",
       "2           2  245000000   http://www.sonypictures.com/movies/spectre/   \n",
       "3           3  250000000            http://www.thedarkknightrises.com/   \n",
       "4           4  260000000          http://movies.disney.com/john-carter   \n",
       "\n",
       "       id                                           keywords  \\\n",
       "0   19995  ['culture clash', 'future', 'space war', 'spac...   \n",
       "1     285  ['ocean', 'drug abuse', 'exotic island', 'east...   \n",
       "2  206647  ['spy', 'based on novel', 'secret agent', 'seq...   \n",
       "3   49026  ['dc comics', 'crime fighter', 'terrorist', 's...   \n",
       "4   49529  ['based on novel', 'mars', 'medallion', 'space...   \n",
       "\n",
       "  original_language                            original_title  \\\n",
       "0                en                                    Avatar   \n",
       "1                en  Pirates of the Caribbean: At World's End   \n",
       "2                en                                   Spectre   \n",
       "3                en                     The Dark Knight Rises   \n",
       "4                en                               John Carter   \n",
       "\n",
       "                                            overview  popularity  \\\n",
       "0  In the 22nd century, a paraplegic Marine is di...  150.437577   \n",
       "1  Captain Barbossa, long believed to be dead, ha...  139.082615   \n",
       "2  A cryptic message from Bond’s past sends him o...  107.376788   \n",
       "3  Following the death of District Attorney Harve...  112.312950   \n",
       "4  John Carter is a war-weary, former military ca...   43.926995   \n",
       "\n",
       "      production_companies  ... spoken_languages    status  \\\n",
       "0  Ingenious Film Partners  ...          English  Released   \n",
       "1     Walt Disney Pictures  ...          English  Released   \n",
       "2        Columbia Pictures  ...         Français  Released   \n",
       "3       Legendary Pictures  ...          English  Released   \n",
       "4     Walt Disney Pictures  ...          English  Released   \n",
       "\n",
       "                                          tagline  \\\n",
       "0                     Enter the World of Pandora.   \n",
       "1  At the end of the world, the adventure begins.   \n",
       "2                           A Plan No One Escapes   \n",
       "3                                 The Legend Ends   \n",
       "4            Lost in our world, found in another.   \n",
       "\n",
       "                                      title vote_average vote_count  \\\n",
       "0                                    Avatar          7.2      11800   \n",
       "1  Pirates of the Caribbean: At World's End          6.9       4500   \n",
       "2                                   Spectre          6.3       4466   \n",
       "3                     The Dark Knight Rises          7.6       9106   \n",
       "4                               John Carter          6.1       2124   \n",
       "\n",
       "                                     tittle  \\\n",
       "0                                    Avatar   \n",
       "1  Pirates of the Caribbean: At World's End   \n",
       "2                                   Spectre   \n",
       "3                     The Dark Knight Rises   \n",
       "4                               John Carter   \n",
       "\n",
       "                                                cast  \\\n",
       "0  [{'character': 'Jake Sully', 'gender': 'M', 'n...   \n",
       "1  [{'character': 'Captain Jack Sparrow', 'gender...   \n",
       "2  [{'character': 'James Bond', 'gender': 'M', 'n...   \n",
       "3  [{'character': 'Bruce Wayne / Batman', 'gender...   \n",
       "4  [{'character': 'John Carter', 'gender': 'M', '...   \n",
       "\n",
       "                                                crew  first_genre  \n",
       "0  [{\"credit_id\": \"52fe48009251416c750aca23\", \"de...       Action  \n",
       "1  [{\"credit_id\": \"52fe4232c3a36847f800b579\", \"de...    Adventure  \n",
       "2  [{\"credit_id\": \"54805967c3a36829b5002c41\", \"de...       Action  \n",
       "3  [{\"credit_id\": \"52fe4781c3a36847f81398c3\", \"de...       Action  \n",
       "4  [{\"credit_id\": \"52fe479ac3a36847f813eaa3\", \"de...       Action  \n",
       "\n",
       "[5 rows x 24 columns]"
      ]
     },
     "execution_count": 2,
     "metadata": {},
     "output_type": "execute_result"
    }
   ],
   "source": [
    "df.head()"
   ]
  },
  {
   "cell_type": "code",
   "execution_count": 3,
   "id": "1973bfc2-8ee4-41e1-8965-2c8227b0b3d8",
   "metadata": {},
   "outputs": [],
   "source": [
    "# 원하는 피처만 남기고 제거\n",
    "df = df[['budget', 'popularity', 'revenue', 'vote_average', 'first_genre']]"
   ]
  },
  {
   "cell_type": "code",
   "execution_count": 4,
   "id": "2b79b12e-f1f6-4268-90c4-87d5e87d86d3",
   "metadata": {},
   "outputs": [
    {
     "name": "stdout",
     "output_type": "stream",
     "text": [
      "<class 'pandas.core.frame.DataFrame'>\n",
      "RangeIndex: 4803 entries, 0 to 4802\n",
      "Data columns (total 5 columns):\n",
      " #   Column        Non-Null Count  Dtype  \n",
      "---  ------        --------------  -----  \n",
      " 0   budget        4803 non-null   int64  \n",
      " 1   popularity    4803 non-null   float64\n",
      " 2   revenue       4803 non-null   int64  \n",
      " 3   vote_average  4803 non-null   float64\n",
      " 4   first_genre   4775 non-null   object \n",
      "dtypes: float64(2), int64(2), object(1)\n",
      "memory usage: 187.7+ KB\n"
     ]
    }
   ],
   "source": [
    "df.info()"
   ]
  },
  {
   "cell_type": "markdown",
   "id": "d71e0950-ff48-4248-bef7-6ed946291a49",
   "metadata": {},
   "source": [
    "#### 결측치 제거"
   ]
  },
  {
   "cell_type": "code",
   "execution_count": 5,
   "id": "01f9d7b4-d592-496d-af8e-8f31b6077dd2",
   "metadata": {},
   "outputs": [
    {
     "name": "stdout",
     "output_type": "stream",
     "text": [
      "<class 'pandas.core.frame.DataFrame'>\n",
      "Index: 4775 entries, 0 to 4802\n",
      "Data columns (total 5 columns):\n",
      " #   Column        Non-Null Count  Dtype  \n",
      "---  ------        --------------  -----  \n",
      " 0   budget        4775 non-null   int64  \n",
      " 1   popularity    4775 non-null   float64\n",
      " 2   revenue       4775 non-null   int64  \n",
      " 3   vote_average  4775 non-null   float64\n",
      " 4   first_genre   4775 non-null   object \n",
      "dtypes: float64(2), int64(2), object(1)\n",
      "memory usage: 223.8+ KB\n"
     ]
    }
   ],
   "source": [
    "df = df.dropna()\n",
    "df.info()"
   ]
  },
  {
   "cell_type": "code",
   "execution_count": 6,
   "id": "041e8499-0686-4450-80f9-ec7472dae66e",
   "metadata": {},
   "outputs": [
    {
     "data": {
      "text/html": [
       "<div>\n",
       "<style scoped>\n",
       "    .dataframe tbody tr th:only-of-type {\n",
       "        vertical-align: middle;\n",
       "    }\n",
       "\n",
       "    .dataframe tbody tr th {\n",
       "        vertical-align: top;\n",
       "    }\n",
       "\n",
       "    .dataframe thead th {\n",
       "        text-align: right;\n",
       "    }\n",
       "</style>\n",
       "<table border=\"1\" class=\"dataframe\">\n",
       "  <thead>\n",
       "    <tr style=\"text-align: right;\">\n",
       "      <th></th>\n",
       "      <th>budget</th>\n",
       "      <th>popularity</th>\n",
       "      <th>revenue</th>\n",
       "      <th>vote_average</th>\n",
       "    </tr>\n",
       "  </thead>\n",
       "  <tbody>\n",
       "    <tr>\n",
       "      <th>count</th>\n",
       "      <td>4.775000e+03</td>\n",
       "      <td>4775.000000</td>\n",
       "      <td>4.775000e+03</td>\n",
       "      <td>4775.000000</td>\n",
       "    </tr>\n",
       "    <tr>\n",
       "      <th>mean</th>\n",
       "      <td>2.921458e+07</td>\n",
       "      <td>21.617344</td>\n",
       "      <td>8.274265e+07</td>\n",
       "      <td>6.114199</td>\n",
       "    </tr>\n",
       "    <tr>\n",
       "      <th>std</th>\n",
       "      <td>4.078120e+07</td>\n",
       "      <td>31.867749</td>\n",
       "      <td>1.632119e+08</td>\n",
       "      <td>1.140636</td>\n",
       "    </tr>\n",
       "    <tr>\n",
       "      <th>min</th>\n",
       "      <td>0.000000e+00</td>\n",
       "      <td>0.000372</td>\n",
       "      <td>0.000000e+00</td>\n",
       "      <td>0.000000</td>\n",
       "    </tr>\n",
       "    <tr>\n",
       "      <th>25%</th>\n",
       "      <td>9.500000e+05</td>\n",
       "      <td>4.806600</td>\n",
       "      <td>0.000000e+00</td>\n",
       "      <td>5.600000</td>\n",
       "    </tr>\n",
       "    <tr>\n",
       "      <th>50%</th>\n",
       "      <td>1.500000e+07</td>\n",
       "      <td>13.119133</td>\n",
       "      <td>1.947206e+07</td>\n",
       "      <td>6.200000</td>\n",
       "    </tr>\n",
       "    <tr>\n",
       "      <th>75%</th>\n",
       "      <td>4.000000e+07</td>\n",
       "      <td>28.499077</td>\n",
       "      <td>9.357130e+07</td>\n",
       "      <td>6.800000</td>\n",
       "    </tr>\n",
       "    <tr>\n",
       "      <th>max</th>\n",
       "      <td>3.800000e+08</td>\n",
       "      <td>875.581305</td>\n",
       "      <td>2.787965e+09</td>\n",
       "      <td>10.000000</td>\n",
       "    </tr>\n",
       "  </tbody>\n",
       "</table>\n",
       "</div>"
      ],
      "text/plain": [
       "             budget   popularity       revenue  vote_average\n",
       "count  4.775000e+03  4775.000000  4.775000e+03   4775.000000\n",
       "mean   2.921458e+07    21.617344  8.274265e+07      6.114199\n",
       "std    4.078120e+07    31.867749  1.632119e+08      1.140636\n",
       "min    0.000000e+00     0.000372  0.000000e+00      0.000000\n",
       "25%    9.500000e+05     4.806600  0.000000e+00      5.600000\n",
       "50%    1.500000e+07    13.119133  1.947206e+07      6.200000\n",
       "75%    4.000000e+07    28.499077  9.357130e+07      6.800000\n",
       "max    3.800000e+08   875.581305  2.787965e+09     10.000000"
      ]
     },
     "execution_count": 6,
     "metadata": {},
     "output_type": "execute_result"
    }
   ],
   "source": [
    "df.describe()"
   ]
  },
  {
   "cell_type": "markdown",
   "id": "94f08484-3433-4d83-9ee9-ce8365844a31",
   "metadata": {},
   "source": [
    "#### 이상치 제거"
   ]
  },
  {
   "cell_type": "code",
   "execution_count": 7,
   "id": "02dad11e-c502-427f-a20d-24b97f2ec41d",
   "metadata": {},
   "outputs": [],
   "source": [
    "# 수익이 0인 칼럼들 살펴보기\n",
    "revenue_0 = df[df['revenue']==0]\n",
    "revenue_0.describe()\n",
    "df = df[df['revenue']>0]"
   ]
  },
  {
   "cell_type": "code",
   "execution_count": 8,
   "id": "d5d6544f-aeee-41fe-bd23-184ace76f7d0",
   "metadata": {},
   "outputs": [],
   "source": [
    "# 예산이 0인 칼럼들 살펴보기\n",
    "budget_0 = df[df['budget']==0]\n",
    "budget_0.describe()\n",
    "df = df[df['budget']>0]"
   ]
  },
  {
   "cell_type": "code",
   "execution_count": 9,
   "id": "bb702ab7-e6b9-400c-af91-f6c584617444",
   "metadata": {},
   "outputs": [],
   "source": [
    "# 유명도가 0인 칼럼들 살펴보기\n",
    "popularity_0 = df[df['popularity']==0]\n",
    "popularity_0.describe()\n",
    "df = df[df['popularity']>0]"
   ]
  },
  {
   "cell_type": "markdown",
   "id": "2e8e522f-98a5-4492-8f0f-8a39c690912f",
   "metadata": {},
   "source": [
    "#### 수익 로그 변환"
   ]
  },
  {
   "cell_type": "code",
   "execution_count": 10,
   "id": "a5ecf00f-67ec-4111-952e-27a74c59a2c1",
   "metadata": {},
   "outputs": [
    {
     "name": "stderr",
     "output_type": "stream",
     "text": [
      "C:\\Users\\김찬은\\AppData\\Local\\Temp\\ipykernel_10348\\2126767789.py:2: UserWarning: \n",
      "\n",
      "`distplot` is a deprecated function and will be removed in seaborn v0.14.0.\n",
      "\n",
      "Please adapt your code to use either `displot` (a figure-level function with\n",
      "similar flexibility) or `histplot` (an axes-level function for histograms).\n",
      "\n",
      "For a guide to updating your code to use the new functions, please see\n",
      "https://gist.github.com/mwaskom/de44147ed2974457ad6372750bbe5751\n",
      "\n",
      "  sns.distplot(df[\"revenue\"],label=\"revenue\")\n",
      "C:\\anaconda3\\Lib\\site-packages\\IPython\\core\\pylabtools.py:170: UserWarning: Glyph 49688 (\\N{HANGUL SYLLABLE SU}) missing from current font.\n",
      "  fig.canvas.print_figure(bytes_io, **kw)\n",
      "C:\\anaconda3\\Lib\\site-packages\\IPython\\core\\pylabtools.py:170: UserWarning: Glyph 51061 (\\N{HANGUL SYLLABLE IG}) missing from current font.\n",
      "  fig.canvas.print_figure(bytes_io, **kw)\n"
     ]
    },
    {
     "data": {
      "image/png": "[encoded data removed]",
      "text/plain": [
       "<Figure size 640x480 with 1 Axes>"
      ]
     },
     "metadata": {},
     "output_type": "display_data"
    },
    {
     "name": "stderr",
     "output_type": "stream",
     "text": [
      "C:\\Users\\김찬은\\AppData\\Local\\Temp\\ipykernel_10348\\2126767789.py:12: UserWarning: \n",
      "\n",
      "`distplot` is a deprecated function and will be removed in seaborn v0.14.0.\n",
      "\n",
      "Please adapt your code to use either `displot` (a figure-level function with\n",
      "similar flexibility) or `histplot` (an axes-level function for histograms).\n",
      "\n",
      "For a guide to updating your code to use the new functions, please see\n",
      "https://gist.github.com/mwaskom/de44147ed2974457ad6372750bbe5751\n",
      "\n",
      "  sns.distplot(df[\"revenue\"],label='revenue')\n"
     ]
    },
    {
     "data": {
      "image/png": "[encoded data removed]",
      "text/plain": [
       "<Figure size 640x480 with 1 Axes>"
      ]
     },
     "metadata": {},
     "output_type": "display_data"
    }
   ],
   "source": [
    "# 원본값의 distplot그래프\n",
    "sns.distplot(df[\"revenue\"],label=\"revenue\")\n",
    "plt.title('수익')\n",
    "#각 선에 라벨링 표기\n",
    "plt.legend()\n",
    "plt.show()\n",
    "\n",
    "#log를 이용해 변환\n",
    "df['revenue'] = np.log1p(df[\"revenue\"])\n",
    "\n",
    "# log값의 distplot그래프\n",
    "sns.distplot(df[\"revenue\"],label='revenue')\n",
    "plt.legend()\n",
    "plt.show()"
   ]
  },
  {
   "cell_type": "markdown",
   "id": "e2159bf8-fa41-4f32-af20-b6fcf2f5f2d2",
   "metadata": {},
   "source": [
    "### 카테고리형 원-핫 인코딩"
   ]
  },
  {
   "cell_type": "code",
   "execution_count": 11,
   "id": "5775748f-ada6-4d96-b500-1f5f163a0efe",
   "metadata": {},
   "outputs": [
    {
     "data": {
      "text/plain": [
       "first_genre    \n",
       "Drama              747\n",
       "Comedy             634\n",
       "Action             588\n",
       "Adventure          288\n",
       "Horror             197\n",
       "Crime              141\n",
       "Thriller           118\n",
       "Animation           99\n",
       "Fantasy             93\n",
       "Science Fiction     79\n",
       "Romance             70\n",
       "Family              38\n",
       "Documentary         30\n",
       "Mystery             27\n",
       "Western             22\n",
       "Music               20\n",
       "History             18\n",
       "War                 18\n",
       "Foreign              1\n",
       "Name: count, dtype: int64"
      ]
     },
     "execution_count": 11,
     "metadata": {},
     "output_type": "execute_result"
    }
   ],
   "source": [
    "df[['first_genre']].value_counts()"
   ]
  },
  {
   "cell_type": "code",
   "execution_count": 12,
   "id": "9561cc55-c253-4d1e-912a-626871d66e2b",
   "metadata": {},
   "outputs": [],
   "source": [
    "# 수익과 장르의 연관성 보기\n",
    "labels = ['A', 'B', 'C', 'D', 'E', 'F', 'G']\n",
    "df['rank'] = pd.qcut(df['revenue'], 7, labels)"
   ]
  },
  {
   "cell_type": "code",
   "execution_count": 14,
   "id": "63815365-5f6c-4a1e-84a3-fea7f8c3c547",
   "metadata": {},
   "outputs": [
    {
     "data": {
      "text/plain": [
       "first_genre\n",
       "Action             17.890130\n",
       "Adventure          18.426403\n",
       "Animation          18.776040\n",
       "Comedy             17.313461\n",
       "Crime              17.116408\n",
       "Documentary        15.552937\n",
       "Drama              16.910159\n",
       "Family             18.343196\n",
       "Fantasy            18.136936\n",
       "Foreign            11.619994\n",
       "History            17.534296\n",
       "Horror             17.382148\n",
       "Music              17.081685\n",
       "Mystery            17.082288\n",
       "Romance            17.288277\n",
       "Science Fiction    18.076015\n",
       "Thriller           17.303240\n",
       "War                16.796577\n",
       "Western            16.841501\n",
       "Name: revenue, dtype: float64"
      ]
     },
     "execution_count": 14,
     "metadata": {},
     "output_type": "execute_result"
    }
   ],
   "source": [
    "genre_avg_revenue = df.groupby('first_genre')['revenue'].mean()\n",
    "genre_avg_revenue"
   ]
  },
  {
   "cell_type": "code",
   "execution_count": 19,
   "id": "df35fe77-21f4-4577-96f6-90734fba09c2",
   "metadata": {},
   "outputs": [],
   "source": [
    "df[['first_genre']] = df[['first_genre']].replace({'Foreign':'etc','TV Movie':'etc', 'History':'etc', 'War':'etc', 'Western':'etc', \n",
    "                                                   'Music':'etc', 'Family':'etc', 'Mystery':'etc', 'Documentary':'etc'})"
   ]
  },
  {
   "cell_type": "code",
   "execution_count": 20,
   "id": "99bccddc-5f0f-482e-a3c6-7f8ca41a4864",
   "metadata": {},
   "outputs": [
    {
     "data": {
      "text/plain": [
       "first_genre    \n",
       "Drama              747\n",
       "Comedy             634\n",
       "Action             588\n",
       "Adventure          288\n",
       "Horror             197\n",
       "etc                174\n",
       "Crime              141\n",
       "Thriller           118\n",
       "Animation           99\n",
       "Fantasy             93\n",
       "Science Fiction     79\n",
       "Romance             70\n",
       "Name: count, dtype: int64"
      ]
     },
     "execution_count": 20,
     "metadata": {},
     "output_type": "execute_result"
    }
   ],
   "source": [
    "df[['first_genre']].value_counts()"
   ]
  },
  {
   "cell_type": "code",
   "execution_count": 21,
   "id": "d1626129-5fe9-4774-9ed9-b48dc22dc3ad",
   "metadata": {},
   "outputs": [],
   "source": [
    "df = pd.get_dummies(df, columns = ['first_genre'])"
   ]
  },
  {
   "cell_type": "code",
   "execution_count": 22,
   "id": "d62686ac-0b1c-4961-ac7e-09f230f636f7",
   "metadata": {},
   "outputs": [
    {
     "name": "stdout",
     "output_type": "stream",
     "text": [
      "<class 'pandas.core.frame.DataFrame'>\n",
      "Index: 3228 entries, 0 to 4798\n",
      "Data columns (total 17 columns):\n",
      " #   Column                       Non-Null Count  Dtype   \n",
      "---  ------                       --------------  -----   \n",
      " 0   budget                       3228 non-null   int64   \n",
      " 1   popularity                   3228 non-null   float64 \n",
      " 2   revenue                      3228 non-null   float64 \n",
      " 3   vote_average                 3228 non-null   float64 \n",
      " 4   rank                         3228 non-null   category\n",
      " 5   first_genre_Action           3228 non-null   bool    \n",
      " 6   first_genre_Adventure        3228 non-null   bool    \n",
      " 7   first_genre_Animation        3228 non-null   bool    \n",
      " 8   first_genre_Comedy           3228 non-null   bool    \n",
      " 9   first_genre_Crime            3228 non-null   bool    \n",
      " 10  first_genre_Drama            3228 non-null   bool    \n",
      " 11  first_genre_Fantasy          3228 non-null   bool    \n",
      " 12  first_genre_Horror           3228 non-null   bool    \n",
      " 13  first_genre_Romance          3228 non-null   bool    \n",
      " 14  first_genre_Science Fiction  3228 non-null   bool    \n",
      " 15  first_genre_Thriller         3228 non-null   bool    \n",
      " 16  first_genre_etc              3228 non-null   bool    \n",
      "dtypes: bool(12), category(1), float64(3), int64(1)\n",
      "memory usage: 167.4 KB\n"
     ]
    }
   ],
   "source": [
    "df.info()"
   ]
  },
  {
   "cell_type": "markdown",
   "id": "740d9135-321e-4fa8-8e5a-20501a00b68a",
   "metadata": {},
   "source": [
    "### 회귀"
   ]
  },
  {
   "cell_type": "code",
   "execution_count": 23,
   "id": "949d847c-1234-4277-978c-8490cafe8f4d",
   "metadata": {},
   "outputs": [],
   "source": [
    "from sklearn.model_selection import train_test_split\n",
    "\n",
    "X = df.drop(labels=['revenue', 'rank'], axis=1)\n",
    "y = df['revenue']\n",
    "\n",
    "X_train, X_test, y_train, y_test = train_test_split(X, y, test_size=0.3, random_state=0)"
   ]
  },
  {
   "cell_type": "code",
   "execution_count": 24,
   "id": "f18d8de6-f79c-4fbe-b25b-b0557c730870",
   "metadata": {},
   "outputs": [
    {
     "name": "stdout",
     "output_type": "stream",
     "text": [
      "(2259, 15) (969, 15) (2259,) (969,)\n"
     ]
    }
   ],
   "source": [
    "print(X_train.shape, X_test.shape, y_train.shape, y_test.shape)"
   ]
  },
  {
   "cell_type": "code",
   "execution_count": 25,
   "id": "5eaf7169-0763-4996-aa38-66513b770303",
   "metadata": {},
   "outputs": [],
   "source": [
    "from sklearn.metrics import mean_squared_error, mean_absolute_error\n",
    "from sklearn.linear_model import LinearRegression, Ridge, Lasso\n",
    "\n",
    "def evaluate_regr(y, pred):\n",
    "    rmsle_val = rmsle(y, pred)\n",
    "    rmse_val = rmse(y, pred)\n",
    "    mae_val = mean_absolute_error(y, pred)\n",
    "    print('RMSLE: {0:.3f}, RMSE: {1:.3f}, MAE: {2:.3f}'.format(rmsle_val, rmse_val, mae_val))\n",
    "\n",
    "def rmsle(y, pred):\n",
    "    log_y = np.log1p(y)\n",
    "    log_pred = np.log1p(pred)\n",
    "    squared_error = (log_y - log_pred)**2\n",
    "    rmsle = np.sqrt(np.mean(squared_error))\n",
    "    return rmsle\n",
    "\n",
    "def rmse(y, pred):\n",
    "    return np.sqrt(mean_squared_error(y, pred))"
   ]
  },
  {
   "cell_type": "code",
   "execution_count": 26,
   "id": "b04c413c-234d-4b74-b810-d55c70f1276f",
   "metadata": {},
   "outputs": [
    {
     "name": "stdout",
     "output_type": "stream",
     "text": [
      "### 선형 회귀 ###\n",
      "RMSLE: 0.111, RMSE: 1.547, MAE: 1.064\n"
     ]
    }
   ],
   "source": [
    "# 선형 회귀\n",
    "\n",
    "model = LinearRegression()\n",
    "model.fit(X_train, y_train)\n",
    "lr_pred = model.predict(X_test)\n",
    "print('### 선형 회귀 ###')\n",
    "evaluate_regr(y_test, lr_pred)"
   ]
  },
  {
   "cell_type": "code",
   "execution_count": 27,
   "id": "fc01a7a7-5974-4ddf-8f91-36f8560a47eb",
   "metadata": {},
   "outputs": [
    {
     "name": "stdout",
     "output_type": "stream",
     "text": [
      "### 릿지 회귀 ###\n",
      "RMSLE: 0.111, RMSE: 1.546, MAE: 1.063\n"
     ]
    },
    {
     "name": "stderr",
     "output_type": "stream",
     "text": [
      "C:\\anaconda3\\Lib\\site-packages\\sklearn\\linear_model\\_ridge.py:204: LinAlgWarning: Ill-conditioned matrix (rcond=2.24652e-18): result may not be accurate.\n",
      "  return linalg.solve(A, Xy, assume_a=\"pos\", overwrite_a=True).T\n"
     ]
    }
   ],
   "source": [
    "# 릿지, 라쏘 회귀\n",
    "\n",
    "ridge_reg = Ridge(alpha=10)\n",
    "ridge_reg.fit(X_train, y_train)\n",
    "r_pred = ridge_reg.predict(X_test)\n",
    "print('### 릿지 회귀 ###')\n",
    "evaluate_regr(y_test, r_pred)"
   ]
  },
  {
   "cell_type": "code",
   "execution_count": 28,
   "id": "110ba3d3-0f5f-44a1-bebe-8ac8337d56c8",
   "metadata": {},
   "outputs": [
    {
     "name": "stdout",
     "output_type": "stream",
     "text": [
      "### 라쏘 회귀 ###\n",
      "RMSLE: 0.111, RMSE: 1.546, MAE: 1.064\n"
     ]
    }
   ],
   "source": [
    "lasso_reg = Lasso(alpha=0.01)\n",
    "lasso_reg.fit(X_train, y_train)\n",
    "l_pred = lasso_reg.predict(X_test)\n",
    "print('### 라쏘 회귀 ###')\n",
    "evaluate_regr(y_test, l_pred)"
   ]
  },
  {
   "cell_type": "code",
   "execution_count": 29,
   "id": "fc9a7352-55c8-43df-a865-dc04edd41ba5",
   "metadata": {},
   "outputs": [],
   "source": [
    "from sklearn.ensemble import RandomForestRegressor, GradientBoostingRegressor\n",
    "from xgboost import XGBRegressor\n",
    "from lightgbm import LGBMRegressor\n",
    "\n",
    "rf_reg = RandomForestRegressor(n_estimators=500)\n",
    "gbm_reg = GradientBoostingRegressor(n_estimators=500)\n",
    "xgb_reg = XGBRegressor(n_estimators=500)\n",
    "lgbm_reg = LGBMRegressor(n_estimators=500)"
   ]
  },
  {
   "cell_type": "code",
   "execution_count": 30,
   "id": "f30eb892-79d2-4004-bd9c-6c1cb11c277c",
   "metadata": {},
   "outputs": [
    {
     "name": "stdout",
     "output_type": "stream",
     "text": [
      "### 랜덤 포레스트 회귀 ###\n",
      "RMSLE: 0.094, RMSE: 1.362, MAE: 0.923\n"
     ]
    }
   ],
   "source": [
    "rf_reg.fit(X_train, y_train)\n",
    "rf_pred = rf_reg.predict(X_test)\n",
    "print('### 랜덤 포레스트 회귀 ###')\n",
    "evaluate_regr(y_test, rf_pred)"
   ]
  },
  {
   "cell_type": "code",
   "execution_count": 31,
   "id": "de545086-914a-4c1a-a44e-889f6416d587",
   "metadata": {},
   "outputs": [
    {
     "name": "stdout",
     "output_type": "stream",
     "text": [
      "### GBM 회귀 ###\n",
      "RMSLE: 0.101, RMSE: 1.453, MAE: 0.947\n"
     ]
    }
   ],
   "source": [
    "gbm_reg.fit(X_train, y_train)\n",
    "gbm_pred = gbm_reg.predict(X_test)\n",
    "print('### GBM 회귀 ###')\n",
    "evaluate_regr(y_test, gbm_pred)"
   ]
  },
  {
   "cell_type": "code",
   "execution_count": 32,
   "id": "30b7f090-af2a-4a02-b75a-8e091533ac41",
   "metadata": {},
   "outputs": [
    {
     "name": "stdout",
     "output_type": "stream",
     "text": [
      "### xgboost 회귀 ###\n",
      "RMSLE: 0.104, RMSE: 1.515, MAE: 1.016\n"
     ]
    }
   ],
   "source": [
    "xgb_reg.fit(X_train, y_train)\n",
    "xgb_pred = xgb_reg.predict(X_test)\n",
    "print('### xgboost 회귀 ###')\n",
    "evaluate_regr(y_test, xgb_pred)"
   ]
  },
  {
   "cell_type": "code",
   "execution_count": 33,
   "id": "afec44b4-8055-4aeb-a90e-979743801600",
   "metadata": {},
   "outputs": [
    {
     "name": "stdout",
     "output_type": "stream",
     "text": [
      "[LightGBM] [Warning] Found whitespace in feature_names, replace with underlines\n",
      "[LightGBM] [Info] Auto-choosing col-wise multi-threading, the overhead of testing was 0.000168 seconds.\n",
      "You can set `force_col_wise=true` to remove the overhead.\n",
      "[LightGBM] [Info] Total Bins 540\n",
      "[LightGBM] [Info] Number of data points in the train set: 2259, number of used features: 15\n",
      "[LightGBM] [Info] Start training from score 17.476668\n",
      "### lightGBM 회귀 ###\n",
      "RMSLE: 0.112, RMSE: 1.554, MAE: 1.031\n"
     ]
    }
   ],
   "source": [
    "lgbm_reg.fit(X_train, y_train)\n",
    "lgbm_pred = lgbm_reg.predict(X_test)\n",
    "print('### lightGBM 회귀 ###')\n",
    "evaluate_regr(y_test, lgbm_pred)"
   ]
  },
  {
   "cell_type": "code",
   "execution_count": 34,
   "id": "4ebee787-563d-45b1-8635-f4c546c5a1ad",
   "metadata": {},
   "outputs": [
    {
     "name": "stdout",
     "output_type": "stream",
     "text": [
      "RMSLE: 0.094, RMSE: 1.358, MAE: 0.915\n"
     ]
    }
   ],
   "source": [
    "pred = rf_pred * 0.75 + gbm_pred * 0.25\n",
    "evaluate_regr(y_test, pred)"
   ]
  },
  {
   "cell_type": "markdown",
   "id": "5ef19971-728d-4e07-9921-7188f3280141",
   "metadata": {},
   "source": [
    "## 최종 혼합 모델의 평가 지표는 RMSLE: 0.094, RMSE: 1.354, MAE: 0.912 이다."
   ]
  },
  {
   "cell_type": "code",
   "execution_count": null,
   "id": "05364400-f34c-4cdf-96fb-97404ac898a2",
   "metadata": {},
   "outputs": [],
   "source": []
  }
 ],
 "metadata": {
  "kernelspec": {
   "display_name": "Python 3 (ipykernel)",
   "language": "python",
   "name": "python3"
  },
  "language_info": {
   "codemirror_mode": {
    "name": "ipython",
    "version": 3
   },
   "file_extension": ".py",
   "mimetype": "text/x-python",
   "name": "python",
   "nbconvert_exporter": "python",
   "pygments_lexer": "ipython3",
   "version": "3.12.3"
  }
 },
 "nbformat": 4,
 "nbformat_minor": 5
}
