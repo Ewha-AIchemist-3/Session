{
 "cells": [
  {
   "cell_type": "code",
   "execution_count": 1,
   "id": "9330a569",
   "metadata": {},
   "outputs": [],
   "source": [
    "#!pip install lightgbm==3.3.2"
   ]
  },
  {
   "cell_type": "code",
   "execution_count": null,
   "id": "4da89d1b",
   "metadata": {},
   "outputs": [],
   "source": [
    "#!pip install xgboost==1.5.0"
   ]
  },
  {
   "cell_type": "code",
   "execution_count": null,
   "id": "cc5741b8",
   "metadata": {},
   "outputs": [],
   "source": [
    "#!pip install hyperopt"
   ]
  },
  {
   "cell_type": "code",
   "execution_count": null,
   "id": "1fd4384b",
   "metadata": {},
   "outputs": [],
   "source": [
    "# 필요 모듈 로딩, 학습 데이터 dataframe 로딩\n",
    "\n",
    "# mission : 데이터셋의 shape를 확인하고, 데이터셋을 3행만 출력해주세요."
   ]
  },
  {
   "cell_type": "code",
   "execution_count": null,
   "id": "497e35cd",
   "metadata": {},
   "outputs": [],
   "source": [
    "# mission : 전처리를 위해 데이터셋을 살펴보세요 \n",
    "''' hint : 피쳐의 타입과 null 값을 확인하는 함수와 \n",
    "    피처들의 수학적 통계값을 확인하는 함수를 활용하세요 '''"
   ]
  },
  {
   "cell_type": "code",
   "execution_count": null,
   "id": "2d614a68",
   "metadata": {},
   "outputs": [],
   "source": [
    "# Target 속성의 값 분포 확인하기\n",
    "# mission :  전체 데이터 셋에서 만족, 불만족 각각의 개수와 비율을 파악해봅시다\n",
    "\n",
    "''' hint : 다음 두 함수를 활용해요 ! \n",
    "    - value_counts(): 고유 값의 빈도를 구함.\n",
    "    - count(): 결측치가 아닌 값의 총 개수를 구함. '''"
   ]
  },
  {
   "cell_type": "markdown",
   "id": "6a32e485",
   "metadata": {},
   "source": [
    "# 전처리\n",
    "##### 어떤 전처리를 해야할까요 ?  위의 데이터 살펴보기 과정에서 어떤 문제점을 발견했나요?"
   ]
  },
  {
   "cell_type": "code",
   "execution_count": 3,
   "id": "3620db07",
   "metadata": {},
   "outputs": [],
   "source": [
    "### sweetviz 사용해보기 !\n",
    "\n",
    "''' import sweetviz as sv\n",
    "import pandas as pd\n",
    "\n",
    "# 데이터셋 로드 (예: pandas DataFrame)\n",
    "df = ____\n",
    "\n",
    "# Sweetviz 보고서 생성\n",
    "report = sv.analyze(df, pairwise_analysis='off')\n",
    "# 보고서 HTML 파일로 저장\n",
    "report.show_html('sweetviz_report.html') '''"
   ]
  },
  {
   "cell_type": "code",
   "execution_count": null,
   "id": "f28ebe3a",
   "metadata": {},
   "outputs": [],
   "source": [
    "# 피처 세트와 레이블 세트 분리\n",
    "\n",
    "### hint : X_features와 y_labels를 분리해주세요 ~"
   ]
  },
  {
   "cell_type": "code",
   "execution_count": null,
   "id": "e360d120",
   "metadata": {},
   "outputs": [],
   "source": [
    "# 학습/테스트 데이터 세트 분리\n",
    "\n",
    "### hint :  sklearn 패키지를 이용해요 :)"
   ]
  },
  {
   "cell_type": "code",
   "execution_count": null,
   "id": "80f484c6",
   "metadata": {},
   "outputs": [],
   "source": [
    "# mission : \n",
    "# 학습 세트 레이블 값 분포 비율 , 테스트 세트 레이블 값 분포 비율을 출력해볼까요?\n",
    "\n",
    "### hint : 아까 사용했던 value_counts, count 함수를 활용해보아요 ~"
   ]
  },
  {
   "cell_type": "code",
   "execution_count": null,
   "id": "73f581f6",
   "metadata": {},
   "outputs": [],
   "source": []
  },
  {
   "cell_type": "markdown",
   "id": "ea8b1991",
   "metadata": {},
   "source": [
    "## 본격 모델링을 시작합니다. \n",
    "### 배운 내용을 떠올리며, 빈칸을 채워보아요 :)"
   ]
  },
  {
   "cell_type": "markdown",
   "id": "a5b01204",
   "metadata": {},
   "source": [
    "# XGBoost"
   ]
  },
  {
   "cell_type": "code",
   "execution_count": null,
   "id": "9a5dadc4",
   "metadata": {},
   "outputs": [],
   "source": [
    "# XGBoost 조기 중단의 검증 데이터 세트 위해 X_train, y_train 다시 학습/검증 분리\n",
    "X_tr, X_val, y_tr, y_val = ___________(X_train, y_train, test_size=0.3, random_state=0)"
   ]
  },
  {
   "cell_type": "code",
   "execution_count": null,
   "id": "110cca58",
   "metadata": {},
   "outputs": [],
   "source": [
    "from xgboost import XGBClassifier\n",
    "from sklearn.metrics import roc_auc_score\n",
    "\n",
    "# XGBClassifier 학습 수행 !\n",
    "# n_estimators는 500으로, random_state는 예제 수행 시마다 동일 예측 결과를 위해 156이라는 특정 값으로 설정\n",
    "xgb_clf = ____________(n_estimators=___, learning_rate=0.05, random_state=___)\n",
    "\n",
    "# 성능 평가 지표를 auc로, 조기 중단 파라미터 100 설정, 학습 수행\n",
    "xgb_clf.___(X_tr, y_tr, ______________=___, eval_metric=\"___\", eval_set=[(X_tr, y_tr), (X_val, y_val)])\n",
    "\n",
    "# ROC AUC 점수 계산\n",
    "xgb_roc_score = ___________(y_test, xgb_clf._____________(X_test)[:, 1])\n",
    "print('ROC AUC: {0:.4f}'.format(xgb_roc_score))"
   ]
  },
  {
   "cell_type": "code",
   "execution_count": null,
   "id": "73ceb5f3",
   "metadata": {},
   "outputs": [],
   "source": [
    "# HyperOpt로 하이퍼 파라미터 튜닝\n",
    "from hyperopt import hp\n",
    "\n",
    "# 입력값, 검색 공간 설정\n",
    "# max_depth는 5에서 15까지 1간격, min_child_weight는 1에서 6까지 1간격\n",
    "# colsample_bytree는 0.5에서 0.95 사이, learning_rate는 0.01에서 0.2 사이 정규 분포된 값으로 검색\n",
    "xgb_search_space = {'max_depth': hp.quniform('max_depth', _, __, _),\n",
    "                   'min_child_weight': hp.quniform('min_child_weight', _ ,_ ,_ ),\n",
    "                   'colsample_bytree': hp.uniform('colsample_bytree', ___, ___),\n",
    "                   'learning_rate': hp.uniform('learning_rate', ___, ___),}\n",
    "\n",
    "\n",
    "### mission : quniform, uniform 함수는 뭘까요 ?"
   ]
  },
  {
   "cell_type": "code",
   "execution_count": null,
   "id": "8018f7b1",
   "metadata": {},
   "outputs": [],
   "source": [
    "# 목적 함수, 3 Fold 교차 검증 이용\n",
    "from sklearn.model_selection import KFold\n",
    "from sklearn.metrics import roc_auc_score\n",
    "\n",
    "# fmin()에서 호출 시 search_space 값으로 XGBClassifier 교차 검증 학습 후 -1*roc_acu 평균 값 반환\n",
    "def objective_func(search_space):\n",
    "    xgb_clf = _________(n_estimators=100, max_depth=int(search_space['max_depth']),\n",
    "                                                           min_child_weight=int(search_space['min_child_weight']),\n",
    "                                                           colsample_bytree=search_space['colsample_bytree'],\n",
    "                                                           learning_rate=search_space['learning_rate'])\n",
    "    # 3개 k-fold 방식으로 평가된 roc_auc 지표를 담는 list\n",
    "    roc_auc_list = [ ]\n",
    "    \n",
    "    # 3개 k-fold 방식 적용\n",
    "    kf = _____(n_splits=3)\n",
    "    # X_train을 다시 학습과 검증용 데이터로 분리\n",
    "    for tr_index, val_index in kf.split(X_train):\n",
    "        # kf.split(X_train)으로 추출된 학습과 검증 index 값으로 학습과 검증 데이터 세트 분리\n",
    "        X_tr, y_tr = X_train.iloc[_____], y_train.iloc[_____]\n",
    "        X_val, y_val = X_train.iloc[_____], y_train.iloc[_____]\n",
    "        \n",
    "        # early stopping은 30회로 설정하고 추출된 학습과 검증 데이터로 XGBClassifier 학습 수행\n",
    "        xgb_clf.___(X_tr, y_tr, early_stopping_rounds=__, eval_metric=\"auc\",\n",
    "                   eval_set=[(X_tr, y_tr), (X_val, y_val)])\n",
    "        \n",
    "        # 1로 예측한 확률값 추출 후 roc auc 계산하고 평균 roc auc 계산을 위해 list에 결괏값 저장\n",
    "        score = ___________(y_val, xgb_clf.predict_proba(X_val)[:, 1])\n",
    "        roc_auc_list.append(score)\n",
    "        \n",
    "    # 3개 k-fold로 계산된 roc_auc 값의 평균값 반환하되,\n",
    "    # HyperOpt는 목적함수의 최솟값 위한 입력값 찾으므로 -1 곱\n",
    "    return -1 * np.mean(roc_auc_list)"
   ]
  },
  {
   "cell_type": "code",
   "execution_count": null,
   "id": "5e81d9d5",
   "metadata": {
    "scrolled": true
   },
   "outputs": [],
   "source": [
    "# fmin() 함수 호출, 최적 하이퍼 파라미터 도출\n",
    "from hyperopt import fmin, tpe, Trials\n",
    "\n",
    "trials = Trials()\n",
    "\n",
    "# fmin() 함수 호출 max_evals 지정된 횟수만큰 반복 후 목적함수의 최솟값 가지는 최적 입력값 추출\n",
    "best = ____(fn=objective_func,\n",
    "           space=xgb_search_space,\n",
    "           algo=tpe.suggest,\n",
    "           max_evals=50, # 최대 반복 횟수 지정\n",
    "           trials=trials, rstate=np.random.default_rng(seed=30))\n",
    "\n",
    "print('best:', best)"
   ]
  },
  {
   "cell_type": "code",
   "execution_count": null,
   "id": "e45ca405",
   "metadata": {},
   "outputs": [],
   "source": [
    "# n_estimators를 500 증가 후 최적으로 찾은 하이퍼 파라미터를 기반으로 학습과 예측 수행\n",
    "xgb_clf = __________(n_estimators=___, learning_rate=round(best['learning_rate'], 5),\n",
    "                       max_depth=int(best['max_depth']),\n",
    "                       min_child_weight=int(best['min_child_weight']),\n",
    "                       colsample_bytree=round(best['colsample_bytree'], 5))\n",
    "\n",
    "# evaluation metric을 auc로, early stopping 100으로 설정하고 학습 수행\n",
    "xgb_clf.___(X_tr, y_tr, early_stopping_rounds=___,\n",
    "           eval_metric=\"___\", eval_set=[(X_tr, y_tr), (X_val, y_val)])\n",
    "\n",
    "xgb_roc_score = ___________(y_test, xgb_clf.predict_proba(X_test)[:, 1])\n",
    "print('ROC AUC: {0:.4f}'.format(xgb_roc_score))"
   ]
  },
  {
   "cell_type": "code",
   "execution_count": null,
   "id": "e3412930",
   "metadata": {
    "scrolled": true
   },
   "outputs": [],
   "source": [
    "# 피처 중요도 그래프\n",
    "from xgboost import plot_importance\n",
    "import matplotlib.pyplot as plt\n",
    "%matplotlib inline\n",
    "\n",
    "fig, ax = plt.subplots(1, 1, figsize=(10, 8))\n",
    "_________________(xgb_clf, ax=ax, max_num_features=20, height=0.4)"
   ]
  },
  {
   "cell_type": "markdown",
   "id": "18960bac",
   "metadata": {},
   "source": [
    "# LightGBM"
   ]
  },
  {
   "cell_type": "code",
   "execution_count": null,
   "id": "a4941722",
   "metadata": {},
   "outputs": [],
   "source": [
    "# LightGBM으로 학습 수행\n",
    "from lightgbm import LGBMClassifier\n",
    "\n",
    "lgbm_clf = ______________(n_estimators=500)\n",
    "\n",
    "eval_set = [(X_tr, y_tr), (X_val, y_val)]\n",
    "lgbm_clf.___(X_tr, y_tr, early_stopping_rounds=100, eval_metric=\"auc\", eval_set=eval_set)\n",
    "\n",
    "lgbm_roc_score = roc_auc_score(y_test, lgbm_clf.predict_proba(X_test)[:, 1])\n",
    "print('ROC AUC: {0:.4f}'.format(lgbm_roc_score))"
   ]
  },
  {
   "cell_type": "code",
   "execution_count": null,
   "id": "dbb307bd",
   "metadata": {},
   "outputs": [],
   "source": [
    "# HyperOpt로 하이퍼 파라미터 튜닝\n",
    "lgbm_search_space = {'num_leaves': hp.quniform('num_leaves', 32, 64, 1),\n",
    "                     'max_depth': hp.quniform('max_depth', 100, 160, 1),\n",
    "                   'min_child_samples': hp.quniform('min_child_samples', 60, 100, 1),\n",
    "                   'subsample': hp.uniform('subsample', 0.7, 1),\n",
    "                   'learning_rate': hp.uniform('learning_rate', 0.01, 0.2)}"
   ]
  },
  {
   "cell_type": "code",
   "execution_count": null,
   "id": "062867cf",
   "metadata": {},
   "outputs": [],
   "source": [
    "# 목적 함수 생성\n",
    "def objective_func(search_space):\n",
    "    lgbm_clf = ____________(n_estimators=100, num_leaves=int(search_space['num_leaves']),\n",
    "                                                           max_depth=int(search_space['max_depth']),\n",
    "                                                           min_child_samples=int(search_space['min_child_samples']),\n",
    "                                                           subsample=search_space['subsample'],\n",
    "                                                           learning_rate=search_space['learning_rate'])\n",
    "    # 3개 k-fold 방식으로 평가된 roc_auc 지표를 담는 list\n",
    "    roc_auc_list = [ ]\n",
    "    \n",
    "    # 3개 k-fold 방식 적용\n",
    "    kf = _____(n_splits=_)\n",
    "    # X_train을 다시 학습과 검증용 데이터로 분리\n",
    "    for tr_index, val_index in kf.split(X_train):\n",
    "        # kf.split(X_train)으로 추출된 학습과 검증 index 값으로 학습과 검증 데이터 세트 분리\n",
    "        X_tr, y_tr = X_train.iloc[______], y_train.iloc[______]\n",
    "        X_val, y_val = X_train.iloc[______], y_train.iloc[______]\n",
    "        \n",
    "        # early stopping은 30회로 설정하고 추출된 학습과 검증 데이터로 LGBMClassifier 학습 수행\n",
    "        lgbm_clf.___(X_tr, y_tr, early_stopping_rounds=__, eval_metric=\"auc\",\n",
    "                   eval_set=[(X_tr, y_tr), (X_val, y_val)])\n",
    "        \n",
    "        # 1로 예측한 확률값 추출 후 roc auc 계산하고 평균 roc auc 계산을 위해 list에 결괏값 저장\n",
    "        score = _________(y_val, xgb_clf.predict_proba(X_val)[:, 1])\n",
    "        roc_auc_list.append(score)\n",
    "        \n",
    "    # 3개 k-fold로 계산된 roc_auc 값의 평균값 반환하되,\n",
    "    # HyperOpt는 목적함수의 최솟값 위한 입력값 찾으므로 -1 곱\n",
    "    return -1 * np.mean(roc_auc_list)"
   ]
  },
  {
   "cell_type": "code",
   "execution_count": null,
   "id": "3a12719e",
   "metadata": {},
   "outputs": [],
   "source": [
    "# fmin() 함수 호출, 최적 하이퍼 파라미터 도출\n",
    "from hyperopt import fmin, tpe, Trials\n",
    "\n",
    "trials = Trials()\n",
    "\n",
    "# fmin() 함수 호출 max_evals 지정된 횟수만큰 반복 후 목적함수의 최솟값 가지는 최적 입력값 추출\n",
    "best = ____(fn=objective_func,\n",
    "           space=lgbm_search_space,\n",
    "           algo=tpe.suggest,\n",
    "           max_evals=50, # 최대 반복 횟수 지정\n",
    "           trials=trials, rstate=np.random.default_rng(seed=30))\n",
    "\n",
    "print('best:', best)"
   ]
  },
  {
   "cell_type": "code",
   "execution_count": null,
   "id": "f5cf54b0",
   "metadata": {},
   "outputs": [],
   "source": [
    "# 최적 하이퍼 파라미터로 LightGBM 학습, ROC-AUC 평가\n",
    "lgbm_clf = _______(n_estimators=500, num_leaves=int(best['num_leaves']),\n",
    "                                            max_depth=int(best['max_depth']),\n",
    "                                            min_child_samples=int(best['min_child_samples']),\n",
    "                                            subsample=round(best['subsample'], 5),\n",
    "                                            learning_rate=round(best['learning_rate'], 5))\n",
    "\n",
    "# evaluation metric을 auc로, early stopping 100으로 설정하고 학습 수행\n",
    "lgbm_clf.___(X_tr, y_tr, early_stopping_rounds=___,\n",
    "           eval_metric=\"___\", eval_set=[(X_tr, y_tr), (X_val, y_val)])\n",
    "\n",
    "lgbm_roc_score = roc_auc_score(y_test, lgbm_clf.predict_proba(X_test)[:, 1])\n",
    "print('ROC AUC: {0:.4f}'.format(lgbm_roc_score))"
   ]
  }
 ],
 "metadata": {
  "kernelspec": {
   "display_name": "Python 3 (ipykernel)",
   "language": "python",
   "name": "python3"
  },
  "language_info": {
   "codemirror_mode": {
    "name": "ipython",
    "version": 3
   },
   "file_extension": ".py",
   "mimetype": "text/x-python",
   "name": "python",
   "nbconvert_exporter": "python",
   "pygments_lexer": "ipython3",
   "version": "3.11.4"
  }
 },
 "nbformat": 4,
 "nbformat_minor": 5
}
